{
  "nbformat": 4,
  "nbformat_minor": 0,
  "metadata": {
    "colab": {
      "provenance": []
    },
    "kernelspec": {
      "name": "python3",
      "display_name": "Python 3"
    },
    "language_info": {
      "name": "python"
    }
  },
  "cells": [
    {
      "cell_type": "code",
      "source": [
        "import numpy as np    # 한번 import하고 나면 그 뒤는 안해도 됨\n",
        "arr1 = np.arange(1, 10, 2)\n",
        "print(arr1)"
      ],
      "metadata": {
        "colab": {
          "base_uri": "https://localhost:8080/"
        },
        "id": "7baZNKNqT2fj",
        "outputId": "ef91d74b-c5b1-412d-9b1e-d23688266ff3"
      },
      "execution_count": 2,
      "outputs": [
        {
          "output_type": "stream",
          "name": "stdout",
          "text": [
            "[1 3 5 7 9]\n"
          ]
        }
      ]
    },
    {
      "cell_type": "code",
      "source": [
        "arr2 = np.ones((3, 4))\n",
        "\n",
        "print(arr2)"
      ],
      "metadata": {
        "colab": {
          "base_uri": "https://localhost:8080/"
        },
        "id": "IQPYlNI4UJt3",
        "outputId": "5ef4694d-7c2b-4684-ff6c-fb1a5e2910e3"
      },
      "execution_count": 3,
      "outputs": [
        {
          "output_type": "stream",
          "name": "stdout",
          "text": [
            "[[1. 1. 1. 1.]\n",
            " [1. 1. 1. 1.]\n",
            " [1. 1. 1. 1.]]\n"
          ]
        }
      ]
    },
    {
      "cell_type": "code",
      "source": [
        "arr3 = np.linspace(0, 1, 10)\n",
        "\n",
        "print(arr3)"
      ],
      "metadata": {
        "colab": {
          "base_uri": "https://localhost:8080/"
        },
        "id": "QmUgGBYPUYpS",
        "outputId": "554a521b-f9b3-41f7-c547-ab2d5f99f89f"
      },
      "execution_count": 4,
      "outputs": [
        {
          "output_type": "stream",
          "name": "stdout",
          "text": [
            "[0.         0.11111111 0.22222222 0.33333333 0.44444444 0.55555556\n",
            " 0.66666667 0.77777778 0.88888889 1.        ]\n"
          ]
        }
      ]
    },
    {
      "cell_type": "code",
      "source": [
        "# 1. A행렬을 생성해보자.\n",
        "A = np.array([[ 1, 2, 3, 4, 5],\n",
        "              [ 6, 7, 8, 9, 10],\n",
        "              [11, 12, 13, 14, 15],\n",
        "              [16, 17, 18, 19, 20],\n",
        "              [21, 22, 23, 24, 25]])\n",
        "\n",
        "# 2. A의 모양(shape)을 출력해보자.\n",
        "print(A.shape)\n",
        "\n",
        "# 3. 19 값을 추출해보자.\n",
        "print(A[3, 3])\n",
        "\n",
        "# 4. 슬라이싱을 이용하여 [[1, 2], [6, 7]] 값을 추출해보자.\n",
        "print(A[:2, :2])\n",
        "\n",
        "# 5. 슬라이싱을 이용하여 [[19, 20], [24, 25]] 값을 추출해보자.\n",
        "print(A[-2:, -2:])\n",
        "\n",
        "# 6. 슬라이싱을 이용하여 0축의 첫 번째 행과 두 번째 행을 추출해보자.\n",
        "print(A[:2, :])\n",
        "\n",
        "# 7. 슬라이싱을 이용하여 1축의 마지막 열과 마지막 직전 열을 추출해보자.\n",
        "print(A[:, -2:])"
      ],
      "metadata": {
        "colab": {
          "base_uri": "https://localhost:8080/"
        },
        "id": "U9mwUWtJXeic",
        "outputId": "d5f64587-1be6-4870-b79a-1a93075e9017"
      },
      "execution_count": 5,
      "outputs": [
        {
          "output_type": "stream",
          "name": "stdout",
          "text": [
            "(5, 5)\n",
            "19\n",
            "[[1 2]\n",
            " [6 7]]\n",
            "[[19 20]\n",
            " [24 25]]\n",
            "[[ 1  2  3  4  5]\n",
            " [ 6  7  8  9 10]]\n",
            "[[ 4  5]\n",
            " [ 9 10]\n",
            " [14 15]\n",
            " [19 20]\n",
            " [24 25]]\n"
          ]
        }
      ]
    },
    {
      "cell_type": "code",
      "source": [
        "# 1. A행렬을 생성해보자.\n",
        "arr = np.arange(1, 37)\n",
        "arr_3d = arr.reshape(3,4,3)\n",
        "arr_3d"
      ],
      "metadata": {
        "colab": {
          "base_uri": "https://localhost:8080/"
        },
        "id": "aRAY0h-mbvnw",
        "outputId": "b72d72bd-bf20-4b01-ffd2-c68b95c92696"
      },
      "execution_count": 7,
      "outputs": [
        {
          "output_type": "execute_result",
          "data": {
            "text/plain": [
              "array([[[ 1,  2,  3],\n",
              "        [ 4,  5,  6],\n",
              "        [ 7,  8,  9],\n",
              "        [10, 11, 12]],\n",
              "\n",
              "       [[13, 14, 15],\n",
              "        [16, 17, 18],\n",
              "        [19, 20, 21],\n",
              "        [22, 23, 24]],\n",
              "\n",
              "       [[25, 26, 27],\n",
              "        [28, 29, 30],\n",
              "        [31, 32, 33],\n",
              "        [34, 35, 36]]])"
            ]
          },
          "metadata": {},
          "execution_count": 7
        }
      ]
    },
    {
      "cell_type": "code",
      "source": [
        "# 2. A 배열의 모양과 크기를 출력해보자.\n",
        "arr_3d.shape\n",
        "arr_3d.size"
      ],
      "metadata": {
        "colab": {
          "base_uri": "https://localhost:8080/"
        },
        "id": "_YAXXlnYIf3u",
        "outputId": "760e898f-d303-498e-f72e-b8cfaf2a3a1e"
      },
      "execution_count": 8,
      "outputs": [
        {
          "output_type": "execute_result",
          "data": {
            "text/plain": [
              "36"
            ]
          },
          "metadata": {},
          "execution_count": 8
        }
      ]
    },
    {
      "cell_type": "code",
      "source": [
        "# 3. A의 모양을 (3, 4, 3)로 변경해보자.\n",
        "arr_3d = arr_3d.reshape((3,4,3))\n",
        "arr_3d"
      ],
      "metadata": {
        "colab": {
          "base_uri": "https://localhost:8080/"
        },
        "id": "mbp7s3IhIhx6",
        "outputId": "a1185a67-1126-4e58-9214-ce1d00a20002"
      },
      "execution_count": 9,
      "outputs": [
        {
          "output_type": "execute_result",
          "data": {
            "text/plain": [
              "array([[[ 1,  2,  3],\n",
              "        [ 4,  5,  6],\n",
              "        [ 7,  8,  9],\n",
              "        [10, 11, 12]],\n",
              "\n",
              "       [[13, 14, 15],\n",
              "        [16, 17, 18],\n",
              "        [19, 20, 21],\n",
              "        [22, 23, 24]],\n",
              "\n",
              "       [[25, 26, 27],\n",
              "        [28, 29, 30],\n",
              "        [31, 32, 33],\n",
              "        [34, 35, 36]]])"
            ]
          },
          "metadata": {},
          "execution_count": 9
        }
      ]
    },
    {
      "cell_type": "code",
      "source": [
        "# 4. A를 1차원 배열로 구성해보자.\n",
        "arr_F=arr_3d.flatten()\n",
        "arr_F"
      ],
      "metadata": {
        "colab": {
          "base_uri": "https://localhost:8080/"
        },
        "id": "TCGFbqIIIjiB",
        "outputId": "9e7915c1-a1f7-49d9-b000-a47578841f1f"
      },
      "execution_count": 10,
      "outputs": [
        {
          "output_type": "execute_result",
          "data": {
            "text/plain": [
              "array([ 1,  2,  3,  4,  5,  6,  7,  8,  9, 10, 11, 12, 13, 14, 15, 16, 17,\n",
              "       18, 19, 20, 21, 22, 23, 24, 25, 26, 27, 28, 29, 30, 31, 32, 33, 34,\n",
              "       35, 36])"
            ]
          },
          "metadata": {},
          "execution_count": 10
        }
      ]
    }
  ]
}