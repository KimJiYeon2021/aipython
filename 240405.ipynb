{
  "nbformat": 4,
  "nbformat_minor": 0,
  "metadata": {
    "colab": {
      "provenance": []
    },
    "kernelspec": {
      "name": "python3",
      "display_name": "Python 3"
    },
    "language_info": {
      "name": "python"
    }
  },
  "cells": [
    {
      "cell_type": "code",
      "execution_count": 1,
      "metadata": {
        "colab": {
          "base_uri": "https://localhost:8080/"
        },
        "id": "jVRLDtiZ3sPU",
        "outputId": "541a802a-f938-4c93-f67a-f179bf0aef0a"
      },
      "outputs": [
        {
          "output_type": "stream",
          "name": "stdout",
          "text": [
            "A는 5보다 크다\n",
            "프로그램 종료\n"
          ]
        }
      ],
      "source": [
        "a=10\n",
        "if a>5:\n",
        "  print(\"A는 5보다 크다\")\n",
        "print(\"프로그램 종료\")"
      ]
    },
    {
      "cell_type": "code",
      "source": [
        "a=5\n",
        "if a>5:\n",
        "  print(\"A는 5보다 크다\")\n",
        "  print(\"프로그램 종료\")  # 이 코드가 코드블록으로 들어가면 이 조건문은 실행해도 암것도 안뜸\n",
        "\n",
        "a=5\n",
        "if a>5:\n",
        "  print(\"A는 5보다 크다\")\n",
        "print(\"프로그램 종료\") # 이렇게 되면 if문의 영향을 안 받아서 실행됨"
      ],
      "metadata": {
        "colab": {
          "base_uri": "https://localhost:8080/"
        },
        "id": "-nQ0ZgiE4QfN",
        "outputId": "df160020-5542-41fd-c38c-7bc97ff85946"
      },
      "execution_count": 3,
      "outputs": [
        {
          "output_type": "stream",
          "name": "stdout",
          "text": [
            "프로그램 종료\n"
          ]
        }
      ]
    },
    {
      "cell_type": "code",
      "source": [
        "a=5\n",
        "if a>5:\n",
        "  print(\"a는 5보다 크다\")\n",
        "elif a<=5:\n",
        "  print(\"a는 5이하입니다\")"
      ],
      "metadata": {
        "colab": {
          "base_uri": "https://localhost:8080/"
        },
        "id": "bSAfivnb4tlK",
        "outputId": "f2bf13db-4a41-49fb-96bf-f8676186e481"
      },
      "execution_count": 11,
      "outputs": [
        {
          "output_type": "stream",
          "name": "stdout",
          "text": [
            "a는 5이하입니다\n"
          ]
        }
      ]
    },
    {
      "cell_type": "code",
      "source": [
        "a=5\n",
        "if a>5:\n",
        "  print(\"a는 5보다 크다\")\n",
        "elif a<5:\n",
        "  print(\"a는 5보다 작습니다\")\n",
        "else:\n",
        "  print(\"a는 5입니다\")    # 선택지가 >, <, = 3가지 밖에 없기 때문에 if, elif, else임. 알파 테스트는 적어도 3번은 해봐야 함.\n",
        "  # 문법 오류는 함수 오타인데, 논리 오류는 내 생각이 잘못된 거임"
      ],
      "metadata": {
        "colab": {
          "base_uri": "https://localhost:8080/"
        },
        "id": "elGk9cyb7gdS",
        "outputId": "35a5465b-ac4e-4142-a892-4dece67968d8"
      },
      "execution_count": 24,
      "outputs": [
        {
          "output_type": "stream",
          "name": "stdout",
          "text": [
            "a는 5입니다\n"
          ]
        }
      ]
    },
    {
      "cell_type": "code",
      "source": [
        "# a에 할당된 값의 짝수 홀수 여부를 알려주는 프로그램 - 내가 만든 것\n",
        "a=5\n",
        "if a%2==0:\n",
        "  print(\"a는 짝수입니다\")\n",
        "elif a%2==1:\n",
        "  print(\"a는 홀수입니다\")\n",
        "\n",
        "# 교수님 코드 (1)\n",
        "a=5\n",
        "if a%2==0:\n",
        "  print(\"a는 짝수입니다\")\n",
        "elif a%2!=0:                  # '!=' 같지 않다\n",
        "  print(\"a는 홀수입니다\")\n",
        "\n",
        "# 교수님 코드 (2)\n",
        "a=5\n",
        "if a%2==0:\n",
        "  print(\"a는 짝수입니다\")\n",
        "else:\n",
        "  print(\"a는 홀수입니다\")"
      ],
      "metadata": {
        "colab": {
          "base_uri": "https://localhost:8080/"
        },
        "id": "hp8gUmfC5l3E",
        "outputId": "ab8f9e8b-af8d-44ff-8b6e-657b6a31bcf3"
      },
      "execution_count": 32,
      "outputs": [
        {
          "output_type": "stream",
          "name": "stdout",
          "text": [
            "a는 홀수입니다\n",
            "a는 홀수입니다\n",
            "a는 홀수입니다\n"
          ]
        }
      ]
    },
    {
      "cell_type": "code",
      "source": [
        "a = 10\n",
        "b = 5\n",
        "if a > 5:\n",
        "  if b < 10:    # 들여쓰기 되어 있기 때문에 위 if문이 참이어야 실행이 됨\n",
        "    print(\"a는 5보다 크고 b는 10보다 작습니다.\")    # 들여쓰기 되어 있기 때문에 위 if문들이 참이어야 실행이 됨\n",
        "\n",
        "a = 10\n",
        "b = 10\n",
        "if a > 5:\n",
        "  if b < 10:\n",
        "    print(\"a는 5보다 크고 b는 10보다 작습니다.\") # b가 10이기 때문에 실행안됨"
      ],
      "metadata": {
        "colab": {
          "base_uri": "https://localhost:8080/"
        },
        "id": "55UyR94p8l6a",
        "outputId": "cccd4df1-3b4a-4aa8-e8fd-5940a27837a2"
      },
      "execution_count": 34,
      "outputs": [
        {
          "output_type": "stream",
          "name": "stdout",
          "text": [
            "a는 5보다 크고 b는 10보다 작습니다.\n"
          ]
        }
      ]
    },
    {
      "cell_type": "code",
      "source": [
        "a=10\n",
        "b=5\n",
        "if a>5 and b<10:\n",
        "  print(\"a는 5보다 크고 b는 10보다 작다\")\n",
        "\n",
        "# 위의 셀과 같은 코드임. 따라서 중첩으로 표현할건지, and로 표현할건지는 선택사항임"
      ],
      "metadata": {
        "colab": {
          "base_uri": "https://localhost:8080/"
        },
        "id": "A50gtGDv9caO",
        "outputId": "d74b2c09-863a-4365-a415-ffdd1aff4b91"
      },
      "execution_count": 35,
      "outputs": [
        {
          "output_type": "stream",
          "name": "stdout",
          "text": [
            "a는 5보다 크고 b는 10보다 작다\n"
          ]
        }
      ]
    },
    {
      "cell_type": "code",
      "source": [
        "# 0~100점수를 입력받아서 90점 이상 A,80점 이상 B, 70점 이상 C,  60점 이상 D, 그외 F,input문 사용, 알파테스트 최소 5번 - 내가 만든 것\n",
        "a=int(input('점수를 입력하시오'))   # input문은 문자열로 받아들임\n",
        "if a>=90:\n",
        "  print(\"A\")\n",
        "elif a>=80:\n",
        "  print(\"B\")\n",
        "elif a>=70:\n",
        "  print(\"C\")\n",
        "elif a>=60:\n",
        "  print(\"D\")\n",
        "else:\n",
        "  print(\"F\")\n",
        "\n",
        "# 교수님 코드 - input문 생략하고 적은 것. input문 적어야 함.\n",
        "if score >= 90:\n",
        "  grade = \"A\"\n",
        "elif score >= 80:\n",
        "  grade = \"B\"\n",
        "elif score >= 70:\n",
        "  grade = \"C\"\n",
        "elif score >= 60:\n",
        "  grade = \"D\"\n",
        "else:\n",
        "  grade = \"F\""
      ],
      "metadata": {
        "colab": {
          "base_uri": "https://localhost:8080/",
          "height": 261
        },
        "id": "hF28kzca91y1",
        "outputId": "765cba28-d3bd-4806-997f-32d0ea1faa0c"
      },
      "execution_count": 44,
      "outputs": [
        {
          "output_type": "stream",
          "name": "stdout",
          "text": [
            "점수를 입력하시오5\n",
            "F\n"
          ]
        },
        {
          "output_type": "error",
          "ename": "NameError",
          "evalue": "name 'score' is not defined",
          "traceback": [
            "\u001b[0;31m---------------------------------------------------------------------------\u001b[0m",
            "\u001b[0;31mNameError\u001b[0m                                 Traceback (most recent call last)",
            "\u001b[0;32m<ipython-input-44-a57c939e98e8>\u001b[0m in \u001b[0;36m<cell line: 15>\u001b[0;34m()\u001b[0m\n\u001b[1;32m     13\u001b[0m \u001b[0;34m\u001b[0m\u001b[0m\n\u001b[1;32m     14\u001b[0m \u001b[0;31m# 교수님 코드\u001b[0m\u001b[0;34m\u001b[0m\u001b[0;34m\u001b[0m\u001b[0m\n\u001b[0;32m---> 15\u001b[0;31m \u001b[0;32mif\u001b[0m \u001b[0mscore\u001b[0m \u001b[0;34m>=\u001b[0m \u001b[0;36m90\u001b[0m\u001b[0;34m:\u001b[0m\u001b[0;34m\u001b[0m\u001b[0;34m\u001b[0m\u001b[0m\n\u001b[0m\u001b[1;32m     16\u001b[0m   \u001b[0mgrade\u001b[0m \u001b[0;34m=\u001b[0m \u001b[0;34m\"A\"\u001b[0m\u001b[0;34m\u001b[0m\u001b[0;34m\u001b[0m\u001b[0m\n\u001b[1;32m     17\u001b[0m \u001b[0;32melif\u001b[0m \u001b[0mscore\u001b[0m \u001b[0;34m>=\u001b[0m \u001b[0;36m80\u001b[0m\u001b[0;34m:\u001b[0m\u001b[0;34m\u001b[0m\u001b[0;34m\u001b[0m\u001b[0m\n",
            "\u001b[0;31mNameError\u001b[0m: name 'score' is not defined"
          ]
        }
      ]
    },
    {
      "cell_type": "markdown",
      "source": [
        "PNUOJ 1002 문제 풀어보기"
      ],
      "metadata": {
        "id": "WTV7SfgCFB99"
      }
    },
    {
      "cell_type": "code",
      "source": [
        "a=[1,2,3,4,5]   # 리스트\n",
        "for i in a:\n",
        "  print(i, end='')    # end, sep 이 뭐였더라,,, 찾아보기\n",
        "\n",
        "tot=0\n",
        "for i in a:\n",
        "  print(i)\n",
        "  tot+=i      # += 뭔지 찾아보기\n",
        "print(tot)"
      ],
      "metadata": {
        "colab": {
          "base_uri": "https://localhost:8080/"
        },
        "id": "oSHRkjEX_ZYL",
        "outputId": "b14fcaee-b52d-4bec-f22c-9f751c545507"
      },
      "execution_count": 53,
      "outputs": [
        {
          "output_type": "stream",
          "name": "stdout",
          "text": [
            "123451\n",
            "2\n",
            "3\n",
            "4\n",
            "5\n",
            "15\n"
          ]
        }
      ]
    },
    {
      "cell_type": "code",
      "source": [
        "for i in range(11):\n",
        "  print(i)           # 반복 횟수 꼭 주의해야 함\n",
        "\n",
        "for i in range(1, 11, 2):\n",
        "  print(i)"
      ],
      "metadata": {
        "colab": {
          "base_uri": "https://localhost:8080/"
        },
        "id": "jFFKTTWuGwGl",
        "outputId": "ec757b42-69bc-4db6-a95e-e80a2ecf8dd4"
      },
      "execution_count": 56,
      "outputs": [
        {
          "output_type": "stream",
          "name": "stdout",
          "text": [
            "0\n",
            "1\n",
            "2\n",
            "3\n",
            "4\n",
            "5\n",
            "6\n",
            "7\n",
            "8\n",
            "9\n",
            "10\n",
            "1\n",
            "3\n",
            "5\n",
            "7\n",
            "9\n"
          ]
        }
      ]
    },
    {
      "cell_type": "code",
      "source": [
        "# 1에서 100사이의 짝수만 출력하는 코드 - 교수님 코드\n",
        "for i in range(2,101,2):    # 101로 둔 건 마지막 인덱스는 포함되지 않기 때문\n",
        "  print(i)"
      ],
      "metadata": {
        "colab": {
          "base_uri": "https://localhost:8080/"
        },
        "id": "IlpHMIRGIMcH",
        "outputId": "55730655-545f-41a2-8412-d74251cffa5d"
      },
      "execution_count": 59,
      "outputs": [
        {
          "output_type": "stream",
          "name": "stdout",
          "text": [
            "2\n",
            "4\n",
            "6\n",
            "8\n",
            "10\n",
            "12\n",
            "14\n",
            "16\n",
            "18\n",
            "20\n",
            "22\n",
            "24\n",
            "26\n",
            "28\n",
            "30\n",
            "32\n",
            "34\n",
            "36\n",
            "38\n",
            "40\n",
            "42\n",
            "44\n",
            "46\n",
            "48\n",
            "50\n",
            "52\n",
            "54\n",
            "56\n",
            "58\n",
            "60\n",
            "62\n",
            "64\n",
            "66\n",
            "68\n",
            "70\n",
            "72\n",
            "74\n",
            "76\n",
            "78\n",
            "80\n",
            "82\n",
            "84\n",
            "86\n",
            "88\n",
            "90\n",
            "92\n",
            "94\n",
            "96\n",
            "98\n",
            "100\n"
          ]
        }
      ]
    },
    {
      "cell_type": "code",
      "source": [
        "for i in range(1,101):\n",
        "  if i%2 == 0: # 짝수가 나오면 컨티뉴돼서 위 반복문으로 올라가버림(현재 반복이 종료되고 다음 반복으로 넘어가버림)\n",
        "    continue   # 들여쓰기, 컨티뉴는 위 조건의 영향을 받는 코드 블록임\n",
        "  print(i)"
      ],
      "metadata": {
        "colab": {
          "base_uri": "https://localhost:8080/"
        },
        "id": "SaiUxyggJTNA",
        "outputId": "c56cd094-b501-4bf7-ab6e-662f986a4d73"
      },
      "execution_count": 67,
      "outputs": [
        {
          "output_type": "stream",
          "name": "stdout",
          "text": [
            "1\n",
            "3\n",
            "5\n",
            "7\n",
            "9\n",
            "11\n",
            "13\n",
            "15\n",
            "17\n",
            "19\n",
            "21\n",
            "23\n",
            "25\n",
            "27\n",
            "29\n",
            "31\n",
            "33\n",
            "35\n",
            "37\n",
            "39\n",
            "41\n",
            "43\n",
            "45\n",
            "47\n",
            "49\n",
            "51\n",
            "53\n",
            "55\n",
            "57\n",
            "59\n",
            "61\n",
            "63\n",
            "65\n",
            "67\n",
            "69\n",
            "71\n",
            "73\n",
            "75\n",
            "77\n",
            "79\n",
            "81\n",
            "83\n",
            "85\n",
            "87\n",
            "89\n",
            "91\n",
            "93\n",
            "95\n",
            "97\n",
            "99\n"
          ]
        }
      ]
    },
    {
      "cell_type": "code",
      "source": [
        "for i in range(5):\n",
        "  if i%2 == 1:\n",
        "    break   # 홀수가 나오는 순간 브레이크가 걸려버림\n",
        "  print(i)"
      ],
      "metadata": {
        "colab": {
          "base_uri": "https://localhost:8080/"
        },
        "id": "g3SVIDpsKPQn",
        "outputId": "40056700-d134-4fe1-a3a0-59f8ec22c736"
      },
      "execution_count": 68,
      "outputs": [
        {
          "output_type": "stream",
          "name": "stdout",
          "text": [
            "0\n"
          ]
        }
      ]
    },
    {
      "cell_type": "code",
      "source": [
        "# 1~10까지의 짝수의 값과 홀수의 값 따로 구하기 - 내가 만든 것\n",
        "a=[1,2,3,4,5,6,7,8,9,10,11]\n",
        "tot=0\n",
        "for d in range(2,11,2):\n",
        "  tot+=d\n",
        "print(tot)\n",
        "\n",
        "# 교수님 코드\n",
        "짝수합 = 0\n",
        "홀수합 = 0\n",
        "for i in range(1,11):\n",
        "  if i%2==0:\n",
        "    짝수합+=i\n",
        "  else:\n",
        "    홀수합+=i\n",
        "print(짝수합)\n",
        "print(홀수합)"
      ],
      "metadata": {
        "colab": {
          "base_uri": "https://localhost:8080/"
        },
        "id": "c_IrmNa4KyRk",
        "outputId": "375ca227-c9e8-4334-d334-bac39a918aa1"
      },
      "execution_count": 70,
      "outputs": [
        {
          "output_type": "stream",
          "name": "stdout",
          "text": [
            "30\n",
            "30\n",
            "25\n"
          ]
        }
      ]
    },
    {
      "cell_type": "code",
      "source": [
        "# PNUOJ 1001(조건 3개니까 조건 2개 걸고, else), 1002 문제(조건 5개니까 조건 4개 걸고, else), 1003 풀기\n",
        "# 1003문제, n값 입력받기, 1~n까지 반복, 합 계산, 합 출력 - 오 교수님이랑 코드 일치~~\n",
        "n=int(input())\n",
        "tot=0\n",
        "for i in range(1,n+1):\n",
        "  tot+=i\n",
        "print(tot)\n"
      ],
      "metadata": {
        "colab": {
          "base_uri": "https://localhost:8080/"
        },
        "id": "Okq90mWfM7Kq",
        "outputId": "81b46906-7d07-4346-b6ed-cfec2a80fe1a"
      },
      "execution_count": 72,
      "outputs": [
        {
          "output_type": "stream",
          "name": "stdout",
          "text": [
            "3\n",
            "6\n"
          ]
        }
      ]
    }
  ]
}