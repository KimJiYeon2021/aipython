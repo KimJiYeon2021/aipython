{
  "nbformat": 4,
  "nbformat_minor": 0,
  "metadata": {
    "colab": {
      "provenance": []
    },
    "kernelspec": {
      "name": "python3",
      "display_name": "Python 3"
    },
    "language_info": {
      "name": "python"
    }
  },
  "cells": [
    {
      "cell_type": "code",
      "source": [
        "# 1. 분을 입력받아서 시간과 분을 출력하시오 (.format 메서드 활용) - 내가 한 거\n",
        "\n",
        "m=int(input(\"분을 입력하시오: \"))         # 분 입력받기\n",
        "h=m//60                                   # 분을 시간으로 변환\n",
        "rm=m%60                                   # 시간으로 변환 후 남는 분 계산\n",
        "print(\"{}시간 {}분\".format(h, rm))        # 출력"
      ],
      "metadata": {
        "colab": {
          "base_uri": "https://localhost:8080/"
        },
        "id": "ZDnIR927DZGx",
        "outputId": "8396b58c-45ef-42eb-877d-df097dc76bd7"
      },
      "execution_count": null,
      "outputs": [
        {
          "output_type": "stream",
          "name": "stdout",
          "text": [
            "분을 입력하세요: 100\n",
            "1시간 40분\n"
          ]
        }
      ]
    },
    {
      "cell_type": "code",
      "source": [
        "# 1-1. 교수님 코드\n",
        "\n",
        "in_m=int(input(\"분을 입력하시오: \"))\n",
        "h=in_m//60\n",
        "rm=in_m%60\n",
        "print(\"{:d} -> {:d}시간 {:d}분\".format(in_m, h, m))"
      ],
      "metadata": {
        "colab": {
          "base_uri": "https://localhost:8080/"
        },
        "id": "NrZ3Im6EGK4b",
        "outputId": "d927707b-0ffc-48a7-8f1d-dae80ec47b20"
      },
      "execution_count": null,
      "outputs": [
        {
          "output_type": "stream",
          "name": "stdout",
          "text": [
            "분을 입력하세요: 100\n",
            "100 -> 1시간 100분\n"
          ]
        }
      ]
    },
    {
      "cell_type": "code",
      "source": [
        "# 2. 섭씨 온도를 입력받아서 화씨 온도를 출력하시오 (% 연산자 활용) F = C * 1.8 + 32 - 내가 한 거\n",
        "\n",
        "c = float(input(\"섭씨 온도를 입력하시오: \"))               # 사용자로부터 섭씨 온도 입력 받기\n",
        "f = c * 1.8 + 32                                           # 섭씨를 화씨로 변환\n",
        "print(\"섭씨 %.1f도는 화씨 %.1f도 입니다.\" % (c, f))        # 출력"
      ],
      "metadata": {
        "colab": {
          "base_uri": "https://localhost:8080/"
        },
        "id": "268JU1mhFC1D",
        "outputId": "bc07ca75-7d9e-4497-994a-fa2b83222278"
      },
      "execution_count": null,
      "outputs": [
        {
          "output_type": "stream",
          "name": "stdout",
          "text": [
            "섭씨 온도를 입력하세요: 31\n",
            "섭씨 31.0도는 화씨 87.8도 입니다.\n"
          ]
        }
      ]
    },
    {
      "cell_type": "code",
      "source": [
        "# 2-1. 교수님 코드\n",
        "\n",
        "c_t = int(input(\"섭씨 온도를 입력하시오: \"))\n",
        "f_t = c_t * 1.8 + 32\n",
        "print(\"섭씨 %d 도는 화씨 %.1f도 입니다.\" % (c_t, f_t))"
      ],
      "metadata": {
        "colab": {
          "base_uri": "https://localhost:8080/"
        },
        "id": "CCGV5U85HKFZ",
        "outputId": "f132501c-eeb6-4a80-c9d2-bde6066c4c2c"
      },
      "execution_count": null,
      "outputs": [
        {
          "output_type": "stream",
          "name": "stdout",
          "text": [
            "섭씨 온도를 입력하세요: 31\n",
            "섭씨 31 도는 화씨 87.8도 입니다.\n"
          ]
        }
      ]
    },
    {
      "cell_type": "code",
      "source": [
        "# 3. 원의 반지름을 입력받아서 원의 둘레와 면적을 출력하시오 PI = 3.14 - 내가 한 거\n",
        "\n",
        "PI = 3.14                                                                    # 상수 PI 정의\n",
        "r = float(input(\"원의 반지름을 입력하시오: \"))                                    # 사용자로부터 원의 반지름 입력 받기\n",
        "c = 2 * PI * r                                                               # 원의 둘레 계산\n",
        "a = PI * r ** 2                                                              # 원의 면적 계산\n",
        "print(f\"반지름이 {r}인 원의 둘레 {c}이고 면적은 {a:.1f}입니다.\")             # 출력"
      ],
      "metadata": {
        "colab": {
          "base_uri": "https://localhost:8080/"
        },
        "id": "ivtWbY16FjJu",
        "outputId": "d546969b-645d-4774-81a9-e7c0cc5eee81"
      },
      "execution_count": null,
      "outputs": [
        {
          "output_type": "stream",
          "name": "stdout",
          "text": [
            "반지름을 입력하세요: 15\n",
            "반지름이 15.0인 원의 둘레 94.2이고 면적은 706.5입니다.\n"
          ]
        }
      ]
    },
    {
      "cell_type": "code",
      "source": [
        "# 3-1. 교수님 코드\n",
        "\n",
        "PI = 3.14                                                                    # 변수가 아니라 상수값이라서 대문자를 씀. 주로 변수는 소문자, 상수는 대문자를 씀.\n",
        "r = int(input(\"원의 반지름을 입력하시오: \"))\n",
        "circumference = 2 * PI * r\n",
        "area = PI * (r ** 2)                                                         # 계산에서 우선 순위를 분명하게 표시할 것\n",
        "print(\"반지름이 {}인 원의 둘레 {}이고 면적은 {}입니다.\".format(r, circumference, area))          # 소수점 자리까지 지정해주면 더 좋음"
      ],
      "metadata": {
        "colab": {
          "base_uri": "https://localhost:8080/"
        },
        "id": "orawRP2YILCx",
        "outputId": "9b6c795c-c600-4a28-9a12-06b1f981bf15"
      },
      "execution_count": null,
      "outputs": [
        {
          "output_type": "stream",
          "name": "stdout",
          "text": [
            "원의 반지름을 입력하시오: 10\n",
            "반지름이 10인 원의 둘레 62.800000000000004이고 면적은 314.0입니다.\n"
          ]
        }
      ]
    }
  ]
}