{
  "nbformat": 4,
  "nbformat_minor": 0,
  "metadata": {
    "colab": {
      "provenance": []
    },
    "kernelspec": {
      "name": "python3",
      "display_name": "Python 3"
    },
    "language_info": {
      "name": "python"
    }
  },
  "cells": [
    {
      "cell_type": "code",
      "execution_count": 1,
      "metadata": {
        "colab": {
          "base_uri": "https://localhost:8080/"
        },
        "id": "b1DeV9xv-8FO",
        "outputId": "1483aa6a-a7bc-46b1-a2e8-e7fc76e7d5b6"
      },
      "outputs": [
        {
          "output_type": "stream",
          "name": "stdout",
          "text": [
            "두 정수를 입력하세요 : 1 2\n",
            "두 정수의 합은: 3\n"
          ]
        }
      ],
      "source": [
        "A, B = map(int, input(\"두 정수를 입력하세요 : \").split())\n",
        "result = A + B\n",
        "print(\"두 정수의 합은:\", result)"
      ]
    },
    {
      "cell_type": "code",
      "source": [
        "print(\"Hello Python\")"
      ],
      "metadata": {
        "colab": {
          "base_uri": "https://localhost:8080/"
        },
        "id": "YSpNH2x-_gfn",
        "outputId": "91fde6a0-6c35-4ecb-cc45-a0794e61c996"
      },
      "execution_count": 3,
      "outputs": [
        {
          "output_type": "stream",
          "name": "stdout",
          "text": [
            "Hello Python\n"
          ]
        }
      ]
    },
    {
      "cell_type": "code",
      "source": [],
      "metadata": {
        "id": "GNm4ZERD_nQ8"
      },
      "execution_count": null,
      "outputs": []
    },
    {
      "cell_type": "markdown",
      "source": [
        "**두 수를 입력받아서 합을 출력하는 프로그램**"
      ],
      "metadata": {
        "id": "arDlxQGr_0uG"
      }
    },
    {
      "cell_type": "code",
      "source": [],
      "metadata": {
        "id": "LMahQfojAUEX"
      },
      "execution_count": null,
      "outputs": []
    }
  ]
}