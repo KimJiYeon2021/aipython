{
  "nbformat": 4,
  "nbformat_minor": 0,
  "metadata": {
    "colab": {
      "provenance": []
    },
    "kernelspec": {
      "name": "python3",
      "display_name": "Python 3"
    },
    "language_info": {
      "name": "python"
    }
  },
  "cells": [
    {
      "cell_type": "code",
      "source": [
        "# 다음 리스트에서 \"apple\" 요소를 출력하세요.\n",
        "fruits = [\"banana\", \"apple\", \"orange\", \"cherry\"]\n",
        "print(fruits[1])\n",
        "\n",
        "# 다음 리스트에서 마지막 요소를 출력하세요.\n",
        "numbers = [10, 20, 30, 40, 50]\n",
        "print(numbers[-1])\n",
        "\n",
        "# 다음 리스트에서 \"banana\" 요소를 \"grape\"로 변경하세요.\n",
        "fruits = [\"apple\", \"banana\", \"cherry\"]\n",
        "fruits[1] = \"grape\"\n",
        "print(fruits)\n",
        "\n",
        "# 다음 리스트에 \"strawberry\" 요소를 추가하세요.\n",
        "fruits = [\"apple\", \"banana\", \"cherry\"]\n",
        "fruits.append(\"strawberry\")\n",
        "print(fruits)\n",
        "\n",
        "# 다음 리스트에서 30을 제거하세요. -1\n",
        "numbers = [10, 20, 30, 40, 50]\n",
        "numbers.remove(30)\n",
        "print(numbers)\n",
        "# 다음 리스트에서 30을 제거하세요. -2\n",
        "numbers = [10, 20, 30, 40, 50]\n",
        "numbers.pop(2)\n",
        "print(numbers)"
      ],
      "metadata": {
        "colab": {
          "base_uri": "https://localhost:8080/"
        },
        "id": "iGnAPEc2Cvm-",
        "outputId": "a1bf3885-1ee3-4af0-d241-6dc2ee56e74f"
      },
      "execution_count": 22,
      "outputs": [
        {
          "output_type": "stream",
          "name": "stdout",
          "text": [
            "apple\n",
            "50\n",
            "['apple', 'grape', 'cherry']\n",
            "['apple', 'banana', 'cherry', 'strawberry']\n",
            "[10, 20, 40, 50]\n",
            "[10, 20, 40, 50]\n"
          ]
        }
      ]
    },
    {
      "cell_type": "code",
      "source": [
        "# 다음 리스트의 길이를 출력하세요.\n",
        "numbers = [5, 10, 15, 20, 25]\n",
        "print(\"길이: \", len(numbers))\n",
        "\n",
        "# 다음 리스트에서 가장 작은 값/ 가장 큰 값을 찾아 출력하세요.\n",
        "numbers = [10, 5, 8, 3, 15]\n",
        "print(\"최솟값: \", min(numbers), \"최댓값: \", max(numbers))\n",
        "\n",
        "# 다음 리스트의 모든 요소의 합을 계산하여 출력하세요.\n",
        "numbers = [10, 20, 30, 40, 50]\n",
        "print(\"합: \", sum(numbers))\n",
        "\n",
        "# 다음 리스트의 모든 요소를 제곱하여 새로운 리스트를 생성하세요. -1\n",
        "numbers = [1,2,3,4,5]\n",
        "newlist = []\n",
        "for num in numbers:\n",
        "  newlist.append(num**2)\n",
        "print(newlist)\n",
        "# 다음 리스트의 모든 요소를 제곱하여 새로운 리스트를 생성하세요. -2 이거 아래거 이해하고 다시 이해하기,,, 어렵당,,,\n",
        "def square(numbers):\n",
        "    newlist = []\n",
        "    for num in numbers:\n",
        "        newlist.append(num ** 2)\n",
        "    return newlist\n",
        "new = square([1,2,3,4,5])\n",
        "print(new)\n",
        "\n",
        "# 다음 리스트에서 \"apple\" 요소의 개수를 출력하세요.\n",
        "fruits = [\"apple\", \"banana\", \"apple\", \"cherry\", \"apple\"]\n",
        "print(fruits.count(\"apple\"))"
      ],
      "metadata": {
        "colab": {
          "base_uri": "https://localhost:8080/"
        },
        "id": "m7NtuMUeIkEa",
        "outputId": "cf05a02c-504f-4a5f-b1b2-bf1e370b1201"
      },
      "execution_count": 37,
      "outputs": [
        {
          "output_type": "stream",
          "name": "stdout",
          "text": [
            "길이:  5\n",
            "최솟값:  3 최댓값:  15\n",
            "합:  150\n",
            "[1, 4, 9, 16, 25]\n",
            "[1, 4, 9, 16, 25]\n",
            "3\n"
          ]
        }
      ]
    },
    {
      "cell_type": "code",
      "source": [
        "# 함수 정의 - 덧셈\n",
        "def add(a,b):\n",
        "  result=a+b\n",
        "  return result\n",
        "# 함수 호출(함수는 반환값(return)으로 대체됨)\n",
        "sum_result = add(3,5)\n",
        "print(sum_result)\n",
        "\n",
        "# 함수 정의 - 제곱(1)\n",
        "def square(x):\n",
        "  return x**2\n",
        "# 함수 호출(1)\n",
        "ret = square(5)\n",
        "print(ret)\n",
        "\n",
        "# 함수 정의 - 제곱(2)\n",
        "def square(x):\n",
        "  result = x**2\n",
        "  return result\n",
        "# 함수 호출(2)\n",
        "print(square(5))\n",
        "print(square(10))\n",
        "print(square(15))\n",
        "print(square(20))"
      ],
      "metadata": {
        "colab": {
          "base_uri": "https://localhost:8080/"
        },
        "id": "6IFZjG2aKkgv",
        "outputId": "31195d49-de87-400c-bf86-c35d104a23a8"
      },
      "execution_count": 32,
      "outputs": [
        {
          "output_type": "stream",
          "name": "stdout",
          "text": [
            "8\n",
            "25\n",
            "25\n",
            "100\n",
            "225\n",
            "400\n"
          ]
        }
      ]
    },
    {
      "cell_type": "code",
      "source": [
        "# 결과=BMI(190,90)\n",
        "# print(결과)\n",
        "\n",
        "def BMI(h, w):\n",
        "  result = w/(h**2)       # 이건 키가 m기준 공식인데 우리는 cm 기준이라 결과값이 이상하게 나오는 거임\n",
        "  return result\n",
        "print(BMI(153, 50))\n",
        "\n",
        "def BMI(h, w):\n",
        "  result1 = w/(h**2)\n",
        "  return 10000*result\n",
        "print(BMI(153, 50))"
      ],
      "metadata": {
        "colab": {
          "base_uri": "https://localhost:8080/"
        },
        "id": "wYtxyfKIOzHq",
        "outputId": "470451f6-e9fe-4c63-f96b-a5f18079a867"
      },
      "execution_count": 48,
      "outputs": [
        {
          "output_type": "stream",
          "name": "stdout",
          "text": [
            "0.002135930624973301\n",
            "21.35930624973301\n"
          ]
        }
      ]
    }
  ]
}